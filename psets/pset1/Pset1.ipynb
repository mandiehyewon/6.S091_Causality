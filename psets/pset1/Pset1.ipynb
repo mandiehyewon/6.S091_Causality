{
 "cells": [
  {
   "cell_type": "code",
   "execution_count": 44,
   "id": "478135e9",
   "metadata": {},
   "outputs": [],
   "source": [
    "import  numpy as np\n",
    "\n",
    "class Bernoulli:\n",
    "    def __init__(self, p):\n",
    "        self.p = p\n",
    "    def probability(self, x=1):\n",
    "        if x == 1:\n",
    "            return self.p\n",
    "        elif x == 0:\n",
    "            return 1-self.p"
   ]
  },
  {
   "cell_type": "code",
   "execution_count": 64,
   "id": "48661eb1",
   "metadata": {},
   "outputs": [],
   "source": [
    "U = {0: 0.5, 1: 0.5}\n",
    "PA_U = lambda x, y: Bernoulli(x/4).probability(y)\n",
    "PM_A = lambda x, y: Bernoulli(0.5+0.1*x).probability(y)\n",
    "PY_MA = lambda x, y, z: Bernoulli(x/2+y/4).probability(z)"
   ]
  },
  {
   "cell_type": "code",
   "execution_count": 84,
   "id": "3a379dcf",
   "metadata": {},
   "outputs": [],
   "source": [
    "PYAMU = {}\n",
    "for u in [0,1]:\n",
    "    for a in [0,1]:\n",
    "        for m in [0,1]:\n",
    "            for y in [0,1]:\n",
    "                PYAMU[(y,a,m,u)] = U[u] * PA_U(u,a) * PM_A(a,m) * PY_MA(m, u, y)"
   ]
  },
  {
   "cell_type": "code",
   "execution_count": 69,
   "id": "273624bd",
   "metadata": {},
   "outputs": [
    {
     "name": "stdout",
     "output_type": "stream",
     "text": [
      "0.38125\n"
     ]
    }
   ],
   "source": [
    "PY = 0 #P(Y=1)\n",
    "for u in [0,1]:\n",
    "    for a in [0,1]:\n",
    "        for m in [0,1]:\n",
    "            PY+=PYAMU[(1, a, m, u)]\n",
    "print(PY)"
   ]
  },
  {
   "cell_type": "code",
   "execution_count": 81,
   "id": "b0368bcb",
   "metadata": {},
   "outputs": [
    {
     "name": "stdout",
     "output_type": "stream",
     "text": [
      "P(Y=1|M=0, A=0) = 0.10714285714285714, P(Y=1|M=0, A=1) = 0.25\n",
      "0.046875 0.0125 0.4375 0.05\n"
     ]
    }
   ],
   "source": [
    "PYMA = 0 #P(Y=1, M=0, A=0)\n",
    "PYMA1 = 0 #P(Y=1, M=0, A=1)\n",
    "PMA0 = 0 #P(M=0, A=0)\n",
    "PMA1 = 0 #P(M=0, A=1)\n",
    "for u in [0,1]:\n",
    "    PYMA += PYAMU[(1, 0, 0, u)]\n",
    "    PYMA1 += PYAMU[(1, 1, 0, u)]\n",
    "    for y in [0,1]:\n",
    "        PMA0 += PYAMU[(y, 0, 0, u)]\n",
    "        PMA1 += PYAMU[(y, 1, 0, u)]\n",
    "print(\"P(Y=1|M=0, A=0) = {}, P(Y=1|M=0, A=1) = {}\".format(PYMA/PMA0, PYMA1/PMA1))\n",
    "print(PYMA, PYMA1, PMA0, PMA1)"
   ]
  },
  {
   "cell_type": "code",
   "execution_count": 85,
   "id": "2df6b41c",
   "metadata": {},
   "outputs": [
    {
     "data": {
      "text/plain": [
       "{(0, 0, 0, 0): 0.25,\n",
       " (1, 0, 0, 0): 0.0,\n",
       " (0, 0, 1, 0): 0.125,\n",
       " (1, 0, 1, 0): 0.125,\n",
       " (0, 1, 0, 0): 0.0,\n",
       " (1, 1, 0, 0): 0.0,\n",
       " (0, 1, 1, 0): 0.0,\n",
       " (1, 1, 1, 0): 0.0,\n",
       " (0, 0, 0, 1): 0.140625,\n",
       " (1, 0, 0, 1): 0.046875,\n",
       " (0, 0, 1, 1): 0.046875,\n",
       " (1, 0, 1, 1): 0.140625,\n",
       " (0, 1, 0, 1): 0.037500000000000006,\n",
       " (1, 1, 0, 1): 0.0125,\n",
       " (0, 1, 1, 1): 0.01875,\n",
       " (1, 1, 1, 1): 0.056249999999999994}"
      ]
     },
     "execution_count": 85,
     "metadata": {},
     "output_type": "execute_result"
    }
   ],
   "source": [
    "PYAMU"
   ]
  },
  {
   "cell_type": "markdown",
   "id": "352024de",
   "metadata": {},
   "source": [
    "# Interventional"
   ]
  },
  {
   "cell_type": "code",
   "execution_count": 60,
   "id": "f196f6cb",
   "metadata": {},
   "outputs": [],
   "source": [
    "U = {0: 0.5, 1: 0.5}\n",
    "M_doA1 = {0: 0.4, 1: 0.6}\n",
    "PY_MA = lambda x, y, z: Bernoulli(x/2+y/4).probability(z)\n",
    "\n",
    "PYMU = {}\n",
    "for u in [0,1]:\n",
    "    for m in [0,1]:\n",
    "        for y in [0,1]:\n",
    "            PYMU[(y,m,u)] = U[u] * M_doA1[m] * PY_MA(m, u, y)"
   ]
  },
  {
   "cell_type": "code",
   "execution_count": 61,
   "id": "2f3ea76b",
   "metadata": {},
   "outputs": [
    {
     "data": {
      "text/plain": [
       "{(0, 0, 0): 0.2,\n",
       " (1, 0, 0): 0.0,\n",
       " (0, 1, 0): 0.15,\n",
       " (1, 1, 0): 0.15,\n",
       " (0, 0, 1): 0.15000000000000002,\n",
       " (1, 0, 1): 0.05,\n",
       " (0, 1, 1): 0.075,\n",
       " (1, 1, 1): 0.22499999999999998}"
      ]
     },
     "execution_count": 61,
     "metadata": {},
     "output_type": "execute_result"
    }
   ],
   "source": [
    "PYMU"
   ]
  },
  {
   "cell_type": "code",
   "execution_count": 73,
   "id": "09a3b5ce",
   "metadata": {},
   "outputs": [
    {
     "name": "stdout",
     "output_type": "stream",
     "text": [
      "0.425\n"
     ]
    }
   ],
   "source": [
    "PY_doA1 = 0 #P(Y=1)\n",
    "for u in [0,1]:\n",
    "    for m in [0,1]:\n",
    "        PY_doA1+=PYMU[(1, m, u)]\n",
    "print(PY_doA1)"
   ]
  },
  {
   "cell_type": "code",
   "execution_count": 77,
   "id": "b0409fd1",
   "metadata": {},
   "outputs": [],
   "source": [
    "U = {0: 0.5, 1: 0.5}\n",
    "M_doA0 = {0: 0.5, 1: 0.5}\n",
    "PY_MA = lambda x, y, z: Bernoulli(x/2+y/4).probability(z)\n",
    "\n",
    "PYMU0 = {}\n",
    "for u in [0,1]:\n",
    "    for m in [0,1]:\n",
    "        for y in [0,1]:\n",
    "            PYMU0[(y,m,u)] = U[u] * M_doA0[m] * PY_MA(m, u, y)"
   ]
  },
  {
   "cell_type": "code",
   "execution_count": 78,
   "id": "d7118fa1",
   "metadata": {},
   "outputs": [
    {
     "name": "stdout",
     "output_type": "stream",
     "text": [
      "0.625\n"
     ]
    }
   ],
   "source": [
    "PY_doA1 = 0 #P(Y=1)\n",
    "for u in [0,1]:\n",
    "    for m in [0,1]:\n",
    "        PY_doA1+=PYMU0[(0, m, u)]\n",
    "print(PY_doA1)"
   ]
  },
  {
   "cell_type": "markdown",
   "id": "cfb7943e",
   "metadata": {},
   "source": [
    "# Backdoor Adjustment"
   ]
  },
  {
   "cell_type": "code",
   "execution_count": 92,
   "id": "1e9af9a4",
   "metadata": {},
   "outputs": [
    {
     "name": "stdout",
     "output_type": "stream",
     "text": [
      "0.06874999999999999 0.0 0.125 0.0 0.5499999999999999\n"
     ]
    }
   ],
   "source": [
    "PYUA1 = 0 #P(Y=1, U=1, A=1)\n",
    "PYUA0 = 0 #P(Y=1, U=0, A=1)\n",
    "PUA1 = 0 #P(U=1, A=1)\n",
    "PUA0 = 0 #P(U=0, A=1)\n",
    "\n",
    "for m in [0,1]:\n",
    "    PYUA1 += PYAMU[(1, 1, m, 1)]\n",
    "    PYUA0 += PYAMU[(1, 1, m, 0)]\n",
    "    for y in [0,1]:\n",
    "        PUA1 += PYAMU[(y, 1, m, 1)]\n",
    "        PUA0 += PYAMU[(y, 1, m, 0)]\n",
    "\n",
    "print(PYUA1, PYUA0, PUA1, PUA0, PYUA1/PUA1)"
   ]
  },
  {
   "cell_type": "code",
   "execution_count": 93,
   "id": "59b6b84e",
   "metadata": {},
   "outputs": [
    {
     "name": "stdout",
     "output_type": "stream",
     "text": [
      "0.05625000000000001 0.0 0.125 0.0 0.45000000000000007\n"
     ]
    }
   ],
   "source": [
    "PYUA1 = 0 #P(Y=0, U=1, A=1)\n",
    "PYUA0 = 0 #P(Y=0, U=0, A=1)\n",
    "PUA1 = 0 #P(U=1, A=1)\n",
    "PUA0 = 0 #P(U=0, A=1)\n",
    "\n",
    "for m in [0,1]:\n",
    "    PYUA1 += PYAMU[(0, 1, m, 1)]\n",
    "    PYUA0 += PYAMU[(0, 1, m, 0)]\n",
    "    for y in [0,1]:\n",
    "        PUA1 += PYAMU[(y, 1, m, 1)]\n",
    "        PUA0 += PYAMU[(y, 1, m, 0)]\n",
    "\n",
    "print(PYUA1, PYUA0, PUA1, PUA0, PYUA1/PUA1)"
   ]
  },
  {
   "cell_type": "code",
   "execution_count": 88,
   "id": "1a0453e3",
   "metadata": {},
   "outputs": [
    {
     "name": "stdout",
     "output_type": "stream",
     "text": [
      "0.1875 0.125 0.375 0.5\n",
      "P(Y=1|U=1, A=1) = 0.5, P(Y=1|U=0, A=1) = 0.25\n",
      "0.375\n"
     ]
    }
   ],
   "source": [
    "PYUA1 = 0 #P(Y=1, U=1, A=0)\n",
    "PYUA0 = 0 #P(Y=1, U=0, A=0)\n",
    "PUA1 = 0 #P(U=1, A=1)\n",
    "PUA0 = 0 #P(U=0, A=1)\n",
    "\n",
    "for m in [0,1]:\n",
    "    PYUA1 += PYAMU[(1, 0, m, 1)]\n",
    "    PYUA0 += PYAMU[(1, 0, m, 0)]\n",
    "    for y in [0,1]:\n",
    "        PUA1 += PYAMU[(y, 0, m, 1)]\n",
    "        PUA0 += PYAMU[(y, 0, m, 0)]\n",
    "\n",
    "print(PYUA1, PYUA0, PUA1, PUA0)\n",
    "print(\"P(Y=1|U=1, A=1) = {}, P(Y=1|U=0, A=1) = {}\".format(PYUA1/PUA1, PYUA0/PUA0))\n",
    "print(PYUA1/PUA1*0.5+PYUA0/PUA0*0.5)"
   ]
  },
  {
   "cell_type": "code",
   "execution_count": 89,
   "id": "6d06dbdd",
   "metadata": {},
   "outputs": [
    {
     "name": "stdout",
     "output_type": "stream",
     "text": [
      "0.1875 0.375 0.375 0.5\n",
      "P(Y=0|U=1, A=1) = 0.5, P(Y=0|U=0, A=1) = 0.75\n",
      "0.625\n"
     ]
    }
   ],
   "source": [
    "PYUA1 = 0 #P(Y=0, U=1, A=0)\n",
    "PYUA0 = 0 #P(Y=0, U=0, A=0)\n",
    "PUA1 = 0 #P(U=1, A=1)\n",
    "PUA0 = 0 #P(U=0, A=1)\n",
    "\n",
    "for m in [0,1]:\n",
    "    PYUA1 += PYAMU[(0, 0, m, 1)]\n",
    "    PYUA0 += PYAMU[(0, 0, m, 0)]\n",
    "    for y in [0,1]:\n",
    "        PUA1 += PYAMU[(y, 0, m, 1)]\n",
    "        PUA0 += PYAMU[(y, 0, m, 0)]\n",
    "\n",
    "print(PYUA1, PYUA0, PUA1, PUA0)\n",
    "print(\"P(Y=0|U=1, A=1) = {}, P(Y=0|U=0, A=1) = {}\".format(PYUA1/PUA1, PYUA0/PUA0))\n",
    "print(PYUA1/PUA1*0.5+PYUA0/PUA0*0.5)"
   ]
  },
  {
   "cell_type": "markdown",
   "id": "18be7802",
   "metadata": {},
   "source": [
    "# Frontdoor Adjustment"
   ]
  },
  {
   "cell_type": "code",
   "execution_count": 115,
   "id": "cafa5194",
   "metadata": {},
   "outputs": [
    {
     "name": "stdout",
     "output_type": "stream",
     "text": [
      "P(Y=1|M=1, A=0) = 0.6071428571428571, P(Y=1|M=0, A=0) = 0.10714285714285714\n",
      "P(Y=1|M=1, A=1) = 0.75, P(Y=1|M=0, A=1) = 0.25\n",
      "P(M=1| A=0) = 0.5, P(M=0|A=0) = 0.5\n",
      "P(M=1| A=1) = 0.6, P(M=0|A=1) = 0.4\n",
      "0.046875 0.265625 0.4375 0.4375 0.875\n",
      "0.425\n",
      "0.375\n"
     ]
    }
   ],
   "source": [
    "PYMA = 0 #P(Y=1, M=0, A=0)\n",
    "PYMA1 = 0 #P(Y=1, M=0, A=1)\n",
    "PYM1A = 0 #P(Y=1, M=1, A=0)\n",
    "PYM1A1 = 0 #P(Y=1, M=1, A=1)\n",
    "PM0A = 0 #P(M=0, A=0)\n",
    "PM0A1 = 0 #P(M=0, A=1)\n",
    "PM1A = 0 #P(M=1, A=0)\n",
    "PM1A1 = 0 #P(M=1, A=1)\n",
    "PA = 0 #P(A=0)\n",
    "\n",
    "for u in [0,1]:\n",
    "    PYMA += PYAMU[(1, 0, 0, u)]\n",
    "    PYM1A += PYAMU[(1, 0, 1, u)]\n",
    "    PYMA1 += PYAMU[(1, 1, 0, u)]\n",
    "    PYM1A1 += PYAMU[(1, 1, 1, u)]\n",
    "    for y in [0,1]:\n",
    "        PM0A += PYAMU[(y, 0, 0, u)]\n",
    "        PM1A += PYAMU[(y, 0, 1, u)]\n",
    "        PM0A1 += PYAMU[(y, 1, 0, u)]\n",
    "        PM1A1 += PYAMU[(y, 1, 1, u)]\n",
    "        for m in [0,1]:\n",
    "            PA += PYAMU[(y, 0, m, u)]\n",
    "print(\"P(Y=1|M=1, A=0) = {}, P(Y=1|M=0, A=0) = {}\".format(PYM1A/PM1A, PYMA/PM0A))\n",
    "print(\"P(Y=1|M=1, A=1) = {}, P(Y=1|M=0, A=1) = {}\".format(PYM1A1/PM1A1, PYMA1/PM0A1))\n",
    "print(\"P(M=1| A=0) = {}, P(M=0|A=0) = {}\".format(PM1A/PA, PM0A/PA))\n",
    "print(\"P(M=1| A=1) = {}, P(M=0|A=1) = {}\".format(PM1A1/(1-PA), PM0A1/(1-PA)))\n",
    "print(PYMA, PYM1A, PM0A, PM1A ,PA)\n",
    "\n",
    "print(0.6 * (0.6071428571428571*0.875+0.75*0.125)+0.4 * (0.10714285714285714*0.875+0.25*0.125))\n",
    "print(0.5 * (0.6071428571428571*0.875+0.75*0.125)+0.5 * (0.10714285714285714*0.875+0.25*0.125))"
   ]
  },
  {
   "cell_type": "code",
   "execution_count": 111,
   "id": "cc32c02a",
   "metadata": {
    "scrolled": true
   },
   "outputs": [
    {
     "name": "stdout",
     "output_type": "stream",
     "text": [
      "P(Y=0|M=1, A=0) = 0.39285714285714285, P(Y=0|M=0, A=0) = 0.8928571428571429\n",
      "P(Y=0|M=1, A=1) = 0.25, P(Y=0|M=0, A=1) = 0.7500000000000001\n",
      "P(M=1| A=0) = 0.5, P(M=0|A=0) = 0.5\n",
      "P(M=1| A=1) = 0.6, P(M=0|A=1) = 0.4\n",
      "0.390625 0.171875 0.4375 0.4375 0.875\n",
      "0.625\n",
      "0.575\n"
     ]
    }
   ],
   "source": [
    "PYMA = 0 #P(Y=0, M=0, A=0)\n",
    "PYMA1 = 0 #P(Y=0, M=0, A=1)\n",
    "PYM1A = 0 #P(Y=0, M=1, A=0)\n",
    "PYM1A1 = 0 #P(Y=0, M=1, A=1)\n",
    "PM0A = 0 #P(M=0, A=0)\n",
    "PM0A1 = 0 #P(M=0, A=1)\n",
    "PM1A = 0 #P(M=1, A=0)\n",
    "PM1A1 = 0 #P(M=1, A=1)\n",
    "PA = 0 #P(A=0)\n",
    "\n",
    "for u in [0,1]:\n",
    "    PYMA += PYAMU[(0, 0, 0, u)]\n",
    "    PYM1A += PYAMU[(0, 0, 1, u)]\n",
    "    PYMA1 += PYAMU[(0, 1, 0, u)]\n",
    "    PYM1A1 += PYAMU[(0, 1, 1, u)]\n",
    "    for y in [0,1]:\n",
    "        PM0A += PYAMU[(y, 0, 0, u)]\n",
    "        PM1A += PYAMU[(y, 0, 1, u)]\n",
    "        PM0A1 += PYAMU[(y, 1, 0, u)]\n",
    "        PM1A1 += PYAMU[(y, 1, 1, u)]\n",
    "        for m in [0,1]:\n",
    "            PA += PYAMU[(y, 0, m, u)]\n",
    "print(\"P(Y=0|M=1, A=0) = {}, P(Y=0|M=0, A=0) = {}\".format(PYM1A/PM1A, PYMA/PM0A))\n",
    "print(\"P(Y=0|M=1, A=1) = {}, P(Y=0|M=0, A=1) = {}\".format(PYM1A1/PM1A1, PYMA1/PM0A1))\n",
    "print(\"P(M=1| A=0) = {}, P(M=0|A=0) = {}\".format(PM1A/PA, PM0A/PA))\n",
    "print(\"P(M=1| A=1) = {}, P(M=0|A=1) = {}\".format(PM1A1/(1-PA), PM0A1/(1-PA)))\n",
    "print(PYMA, PYM1A, PM0A, PM1A ,PA)\n",
    "\n",
    "print(0.5*(0.39285714285714285*0.875+0.25*0.125)+ 0.5*(0.8928571428571429*0.875+0.7500000000000001*0.125))\n",
    "print(0.6*(0.39285714285714285*0.875+0.25*0.125)+ 0.4*(0.8928571428571429*0.875+0.7500000000000001*0.125))"
   ]
  },
  {
   "cell_type": "markdown",
   "id": "cc892206",
   "metadata": {},
   "source": [
    "# Instrumental Variables"
   ]
  },
  {
   "cell_type": "code",
   "execution_count": 1,
   "id": "715dcc25",
   "metadata": {},
   "outputs": [],
   "source": [
    "import pandas as pd"
   ]
  },
  {
   "cell_type": "code",
   "execution_count": 2,
   "id": "5c9f3bc9",
   "metadata": {},
   "outputs": [],
   "source": [
    "samples_005 = pd.read_csv('./samples_0.05.csv', delimiter=' ', names=['W', 'A', 'Y'])\n",
    "samples_05 = pd.read_csv('./samples_0.5.csv', delimiter=' ', names=['W', 'A', 'Y'])\n",
    "samples_5 = pd.read_csv('./samples_5.csv', delimiter=' ', names=['W', 'A', 'Y'])"
   ]
  },
  {
   "cell_type": "code",
   "execution_count": 4,
   "id": "f24acb42",
   "metadata": {},
   "outputs": [
    {
     "data": {
      "text/html": [
       "<div>\n",
       "<style scoped>\n",
       "    .dataframe tbody tr th:only-of-type {\n",
       "        vertical-align: middle;\n",
       "    }\n",
       "\n",
       "    .dataframe tbody tr th {\n",
       "        vertical-align: top;\n",
       "    }\n",
       "\n",
       "    .dataframe thead th {\n",
       "        text-align: right;\n",
       "    }\n",
       "</style>\n",
       "<table border=\"1\" class=\"dataframe\">\n",
       "  <thead>\n",
       "    <tr style=\"text-align: right;\">\n",
       "      <th></th>\n",
       "      <th>W</th>\n",
       "      <th>A</th>\n",
       "      <th>Y</th>\n",
       "    </tr>\n",
       "  </thead>\n",
       "  <tbody>\n",
       "    <tr>\n",
       "      <th>0</th>\n",
       "      <td>-0.974542</td>\n",
       "      <td>-7.411464</td>\n",
       "      <td>-56.204240</td>\n",
       "    </tr>\n",
       "    <tr>\n",
       "      <th>1</th>\n",
       "      <td>-0.925985</td>\n",
       "      <td>-8.079710</td>\n",
       "      <td>-66.485138</td>\n",
       "    </tr>\n",
       "    <tr>\n",
       "      <th>2</th>\n",
       "      <td>-0.989082</td>\n",
       "      <td>17.081236</td>\n",
       "      <td>131.047128</td>\n",
       "    </tr>\n",
       "    <tr>\n",
       "      <th>3</th>\n",
       "      <td>-0.341227</td>\n",
       "      <td>-7.085552</td>\n",
       "      <td>-52.943983</td>\n",
       "    </tr>\n",
       "    <tr>\n",
       "      <th>4</th>\n",
       "      <td>0.127710</td>\n",
       "      <td>9.921038</td>\n",
       "      <td>77.425038</td>\n",
       "    </tr>\n",
       "    <tr>\n",
       "      <th>5</th>\n",
       "      <td>0.781799</td>\n",
       "      <td>11.249563</td>\n",
       "      <td>86.590646</td>\n",
       "    </tr>\n",
       "    <tr>\n",
       "      <th>6</th>\n",
       "      <td>1.610032</td>\n",
       "      <td>-11.655733</td>\n",
       "      <td>-88.872874</td>\n",
       "    </tr>\n",
       "    <tr>\n",
       "      <th>7</th>\n",
       "      <td>-0.872870</td>\n",
       "      <td>-9.650991</td>\n",
       "      <td>-74.479027</td>\n",
       "    </tr>\n",
       "    <tr>\n",
       "      <th>8</th>\n",
       "      <td>-0.898799</td>\n",
       "      <td>1.398662</td>\n",
       "      <td>8.847915</td>\n",
       "    </tr>\n",
       "    <tr>\n",
       "      <th>9</th>\n",
       "      <td>-1.325479</td>\n",
       "      <td>4.090632</td>\n",
       "      <td>33.454700</td>\n",
       "    </tr>\n",
       "  </tbody>\n",
       "</table>\n",
       "</div>"
      ],
      "text/plain": [
       "          W          A           Y\n",
       "0 -0.974542  -7.411464  -56.204240\n",
       "1 -0.925985  -8.079710  -66.485138\n",
       "2 -0.989082  17.081236  131.047128\n",
       "3 -0.341227  -7.085552  -52.943983\n",
       "4  0.127710   9.921038   77.425038\n",
       "5  0.781799  11.249563   86.590646\n",
       "6  1.610032 -11.655733  -88.872874\n",
       "7 -0.872870  -9.650991  -74.479027\n",
       "8 -0.898799   1.398662    8.847915\n",
       "9 -1.325479   4.090632   33.454700"
      ]
     },
     "execution_count": 4,
     "metadata": {},
     "output_type": "execute_result"
    }
   ],
   "source": [
    "samples_005.head(10)"
   ]
  },
  {
   "cell_type": "code",
   "execution_count": 5,
   "id": "49dc6ab7",
   "metadata": {},
   "outputs": [
    {
     "data": {
      "text/html": [
       "<div>\n",
       "<style scoped>\n",
       "    .dataframe tbody tr th:only-of-type {\n",
       "        vertical-align: middle;\n",
       "    }\n",
       "\n",
       "    .dataframe tbody tr th {\n",
       "        vertical-align: top;\n",
       "    }\n",
       "\n",
       "    .dataframe thead th {\n",
       "        text-align: right;\n",
       "    }\n",
       "</style>\n",
       "<table border=\"1\" class=\"dataframe\">\n",
       "  <thead>\n",
       "    <tr style=\"text-align: right;\">\n",
       "      <th></th>\n",
       "      <th>W</th>\n",
       "      <th>A</th>\n",
       "      <th>Y</th>\n",
       "    </tr>\n",
       "  </thead>\n",
       "  <tbody>\n",
       "    <tr>\n",
       "      <th>0</th>\n",
       "      <td>-2.037035</td>\n",
       "      <td>-11.351318</td>\n",
       "      <td>-87.171477</td>\n",
       "    </tr>\n",
       "    <tr>\n",
       "      <th>1</th>\n",
       "      <td>-1.104038</td>\n",
       "      <td>-5.985635</td>\n",
       "      <td>-45.805358</td>\n",
       "    </tr>\n",
       "    <tr>\n",
       "      <th>2</th>\n",
       "      <td>-0.116752</td>\n",
       "      <td>15.921801</td>\n",
       "      <td>123.786508</td>\n",
       "    </tr>\n",
       "    <tr>\n",
       "      <th>3</th>\n",
       "      <td>-0.895643</td>\n",
       "      <td>9.045145</td>\n",
       "      <td>68.120513</td>\n",
       "    </tr>\n",
       "    <tr>\n",
       "      <th>4</th>\n",
       "      <td>0.418609</td>\n",
       "      <td>0.075154</td>\n",
       "      <td>-0.219511</td>\n",
       "    </tr>\n",
       "    <tr>\n",
       "      <th>5</th>\n",
       "      <td>1.150032</td>\n",
       "      <td>-6.897697</td>\n",
       "      <td>-53.342827</td>\n",
       "    </tr>\n",
       "    <tr>\n",
       "      <th>6</th>\n",
       "      <td>-0.290803</td>\n",
       "      <td>0.756064</td>\n",
       "      <td>7.143734</td>\n",
       "    </tr>\n",
       "    <tr>\n",
       "      <th>7</th>\n",
       "      <td>0.283067</td>\n",
       "      <td>5.582372</td>\n",
       "      <td>41.569170</td>\n",
       "    </tr>\n",
       "    <tr>\n",
       "      <th>8</th>\n",
       "      <td>-0.855503</td>\n",
       "      <td>-5.013909</td>\n",
       "      <td>-38.760314</td>\n",
       "    </tr>\n",
       "    <tr>\n",
       "      <th>9</th>\n",
       "      <td>0.976128</td>\n",
       "      <td>1.782619</td>\n",
       "      <td>14.940179</td>\n",
       "    </tr>\n",
       "  </tbody>\n",
       "</table>\n",
       "</div>"
      ],
      "text/plain": [
       "          W          A           Y\n",
       "0 -2.037035 -11.351318  -87.171477\n",
       "1 -1.104038  -5.985635  -45.805358\n",
       "2 -0.116752  15.921801  123.786508\n",
       "3 -0.895643   9.045145   68.120513\n",
       "4  0.418609   0.075154   -0.219511\n",
       "5  1.150032  -6.897697  -53.342827\n",
       "6 -0.290803   0.756064    7.143734\n",
       "7  0.283067   5.582372   41.569170\n",
       "8 -0.855503  -5.013909  -38.760314\n",
       "9  0.976128   1.782619   14.940179"
      ]
     },
     "execution_count": 5,
     "metadata": {},
     "output_type": "execute_result"
    }
   ],
   "source": [
    "samples_05.head(10)"
   ]
  },
  {
   "cell_type": "code",
   "execution_count": 6,
   "id": "98b3c52d",
   "metadata": {},
   "outputs": [
    {
     "data": {
      "text/html": [
       "<div>\n",
       "<style scoped>\n",
       "    .dataframe tbody tr th:only-of-type {\n",
       "        vertical-align: middle;\n",
       "    }\n",
       "\n",
       "    .dataframe tbody tr th {\n",
       "        vertical-align: top;\n",
       "    }\n",
       "\n",
       "    .dataframe thead th {\n",
       "        text-align: right;\n",
       "    }\n",
       "</style>\n",
       "<table border=\"1\" class=\"dataframe\">\n",
       "  <thead>\n",
       "    <tr style=\"text-align: right;\">\n",
       "      <th></th>\n",
       "      <th>W</th>\n",
       "      <th>A</th>\n",
       "      <th>Y</th>\n",
       "    </tr>\n",
       "  </thead>\n",
       "  <tbody>\n",
       "    <tr>\n",
       "      <th>0</th>\n",
       "      <td>-0.318408</td>\n",
       "      <td>2.649913</td>\n",
       "      <td>18.958642</td>\n",
       "    </tr>\n",
       "    <tr>\n",
       "      <th>1</th>\n",
       "      <td>0.463709</td>\n",
       "      <td>12.335164</td>\n",
       "      <td>94.599329</td>\n",
       "    </tr>\n",
       "    <tr>\n",
       "      <th>2</th>\n",
       "      <td>-0.847611</td>\n",
       "      <td>-5.567833</td>\n",
       "      <td>-41.904562</td>\n",
       "    </tr>\n",
       "    <tr>\n",
       "      <th>3</th>\n",
       "      <td>-0.618582</td>\n",
       "      <td>-13.888382</td>\n",
       "      <td>-107.392453</td>\n",
       "    </tr>\n",
       "    <tr>\n",
       "      <th>4</th>\n",
       "      <td>-2.048121</td>\n",
       "      <td>-16.678695</td>\n",
       "      <td>-127.404500</td>\n",
       "    </tr>\n",
       "    <tr>\n",
       "      <th>5</th>\n",
       "      <td>-1.620891</td>\n",
       "      <td>-6.808069</td>\n",
       "      <td>-50.119765</td>\n",
       "    </tr>\n",
       "    <tr>\n",
       "      <th>6</th>\n",
       "      <td>1.327535</td>\n",
       "      <td>-2.170608</td>\n",
       "      <td>-19.035005</td>\n",
       "    </tr>\n",
       "    <tr>\n",
       "      <th>7</th>\n",
       "      <td>0.513145</td>\n",
       "      <td>-19.370889</td>\n",
       "      <td>-150.533377</td>\n",
       "    </tr>\n",
       "    <tr>\n",
       "      <th>8</th>\n",
       "      <td>-0.700303</td>\n",
       "      <td>-7.370361</td>\n",
       "      <td>-55.782428</td>\n",
       "    </tr>\n",
       "    <tr>\n",
       "      <th>9</th>\n",
       "      <td>2.246449</td>\n",
       "      <td>18.954647</td>\n",
       "      <td>142.508371</td>\n",
       "    </tr>\n",
       "  </tbody>\n",
       "</table>\n",
       "</div>"
      ],
      "text/plain": [
       "          W          A           Y\n",
       "0 -0.318408   2.649913   18.958642\n",
       "1  0.463709  12.335164   94.599329\n",
       "2 -0.847611  -5.567833  -41.904562\n",
       "3 -0.618582 -13.888382 -107.392453\n",
       "4 -2.048121 -16.678695 -127.404500\n",
       "5 -1.620891  -6.808069  -50.119765\n",
       "6  1.327535  -2.170608  -19.035005\n",
       "7  0.513145 -19.370889 -150.533377\n",
       "8 -0.700303  -7.370361  -55.782428\n",
       "9  2.246449  18.954647  142.508371"
      ]
     },
     "execution_count": 6,
     "metadata": {},
     "output_type": "execute_result"
    }
   ],
   "source": [
    "samples_5.head(10)"
   ]
  },
  {
   "cell_type": "markdown",
   "id": "419c48f3",
   "metadata": {},
   "source": [
    "# Calculating $\\hat\\beta_{aw}$"
   ]
  },
  {
   "cell_type": "code",
   "execution_count": 8,
   "id": "eddf01b1",
   "metadata": {},
   "outputs": [
    {
     "name": "stdout",
     "output_type": "stream",
     "text": [
      "0.0009904562115915505 [[0.32646744]]\n"
     ]
    }
   ],
   "source": [
    "import numpy as np\n",
    "from sklearn.linear_model import LinearRegression\n",
    "\n",
    "# 0.05\n",
    "a_005 = np.asarray(samples_005['A']).reshape(-1, 1)\n",
    "w_005 = np.asarray(samples_005['W']).reshape(-1, 1)\n",
    "\n",
    "reg_005 = LinearRegression().fit(w_005, a_005)\n",
    "beta_aw_005 = reg_005.coef_\n",
    "print (reg_005.score(w_005, a_005), beta_aw_005)"
   ]
  },
  {
   "cell_type": "code",
   "execution_count": 9,
   "id": "0ed2e6da",
   "metadata": {},
   "outputs": [
    {
     "name": "stdout",
     "output_type": "stream",
     "text": [
      "0.004832409817257077 [[0.72908667]]\n"
     ]
    }
   ],
   "source": [
    "# 0.5\n",
    "a_05 = np.asarray(samples_05['A']).reshape(-1, 1)\n",
    "w_05 = np.asarray(samples_05['W']).reshape(-1, 1)\n",
    "\n",
    "reg_05 = LinearRegression().fit(w_05, a_05)\n",
    "beta_aw_05 = reg_05.coef_\n",
    "print (reg_05.score(w_05, a_05), beta_aw_05)"
   ]
  },
  {
   "cell_type": "code",
   "execution_count": 10,
   "id": "18e39940",
   "metadata": {},
   "outputs": [
    {
     "name": "stdout",
     "output_type": "stream",
     "text": [
      "0.1619688187872389 [[4.52729139]]\n"
     ]
    }
   ],
   "source": [
    "# 5\n",
    "a_5 = np.asarray(samples_5['A']).reshape(-1, 1)\n",
    "w_5 = np.asarray(samples_5['W']).reshape(-1, 1)\n",
    "\n",
    "reg_5 = LinearRegression().fit(w_5, a_5)\n",
    "beta_aw_5 = reg_5.coef_\n",
    "print (reg_5.score(w_5, a_5), beta_aw_5)"
   ]
  },
  {
   "cell_type": "markdown",
   "id": "e17784da",
   "metadata": {},
   "source": [
    "# Calculating $\\hat\\beta_{yw}$"
   ]
  },
  {
   "cell_type": "code",
   "execution_count": 11,
   "id": "5c1362af",
   "metadata": {},
   "outputs": [
    {
     "name": "stdout",
     "output_type": "stream",
     "text": [
      "0.0009603810161366022 [[2.49075696]]\n"
     ]
    }
   ],
   "source": [
    "# 0.05\n",
    "y_005 = np.asarray(samples_005['Y']).reshape(-1, 1)\n",
    "\n",
    "reg_005 = LinearRegression().fit(w_005, y_005)\n",
    "beta_yw_005 = reg_005.coef_\n",
    "print (reg_005.score(w_005, y_005), beta_yw_005)"
   ]
  },
  {
   "cell_type": "code",
   "execution_count": 14,
   "id": "8feb187a",
   "metadata": {},
   "outputs": [
    {
     "name": "stdout",
     "output_type": "stream",
     "text": [
      "0.004650886498636875 [[5.54277931]]\n"
     ]
    }
   ],
   "source": [
    "# 0.5\n",
    "y_05 = np.asarray(samples_05['Y']).reshape(-1, 1)\n",
    "\n",
    "reg_05 = LinearRegression().fit(w_05, y_05)\n",
    "beta_yw_05 = reg_05.coef_\n",
    "print (reg_05.score(w_05, y_05), beta_yw_05)"
   ]
  },
  {
   "cell_type": "code",
   "execution_count": 15,
   "id": "59b973bb",
   "metadata": {},
   "outputs": [
    {
     "name": "stdout",
     "output_type": "stream",
     "text": [
      "0.15248865899664366 [[33.84799159]]\n"
     ]
    }
   ],
   "source": [
    "# 5\n",
    "y_5 = np.asarray(samples_5['Y']).reshape(-1, 1)\n",
    "\n",
    "reg_5 = LinearRegression().fit(w_5, y_5)\n",
    "beta_yw_5 = reg_5.coef_\n",
    "print (reg_5.score(w_5, y_5), )"
   ]
  },
  {
   "cell_type": "code",
   "execution_count": 16,
   "id": "fd44bd63",
   "metadata": {},
   "outputs": [
    {
     "name": "stdout",
     "output_type": "stream",
     "text": [
      "[[7.62941922]]\n",
      "[[7.60235993]]\n",
      "[[7.47643319]]\n"
     ]
    }
   ],
   "source": [
    "print(beta_yw_005/beta_aw_005)\n",
    "print(beta_yw_05/beta_aw_05)\n",
    "print(beta_yw_5/beta_aw_5)"
   ]
  },
  {
   "cell_type": "code",
   "execution_count": null,
   "id": "a47f714d",
   "metadata": {},
   "outputs": [],
   "source": []
  }
 ],
 "metadata": {
  "kernelspec": {
   "display_name": "Python 3 (ipykernel)",
   "language": "python",
   "name": "python3"
  },
  "language_info": {
   "codemirror_mode": {
    "name": "ipython",
    "version": 3
   },
   "file_extension": ".py",
   "mimetype": "text/x-python",
   "name": "python",
   "nbconvert_exporter": "python",
   "pygments_lexer": "ipython3",
   "version": "3.9.13"
  }
 },
 "nbformat": 4,
 "nbformat_minor": 5
}
