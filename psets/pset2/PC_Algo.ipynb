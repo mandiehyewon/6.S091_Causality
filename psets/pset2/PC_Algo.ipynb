{
 "cells": [
  {
   "cell_type": "code",
   "execution_count": 193,
   "id": "282a942d",
   "metadata": {},
   "outputs": [],
   "source": [
    "import itertools\n",
    "import pandas as pd\n",
    "import numpy as np\n",
    "from sklearn.linear_model import LinearRegression\n",
    "from scipy.stats.stats import pearsonr"
   ]
  },
  {
   "cell_type": "code",
   "execution_count": 194,
   "id": "2a684c47",
   "metadata": {},
   "outputs": [],
   "source": [
    "pcalg_samples = pd.read_csv('./pcalg_samples.csv', delimiter=' ', names=['1', '2', '3', '4', '5', '6', '7'])"
   ]
  },
  {
   "cell_type": "code",
   "execution_count": 3,
   "id": "f9251147",
   "metadata": {},
   "outputs": [
    {
     "data": {
      "text/html": [
       "<div>\n",
       "<style scoped>\n",
       "    .dataframe tbody tr th:only-of-type {\n",
       "        vertical-align: middle;\n",
       "    }\n",
       "\n",
       "    .dataframe tbody tr th {\n",
       "        vertical-align: top;\n",
       "    }\n",
       "\n",
       "    .dataframe thead th {\n",
       "        text-align: right;\n",
       "    }\n",
       "</style>\n",
       "<table border=\"1\" class=\"dataframe\">\n",
       "  <thead>\n",
       "    <tr style=\"text-align: right;\">\n",
       "      <th></th>\n",
       "      <th>1</th>\n",
       "      <th>2</th>\n",
       "      <th>3</th>\n",
       "      <th>4</th>\n",
       "      <th>5</th>\n",
       "      <th>6</th>\n",
       "      <th>7</th>\n",
       "    </tr>\n",
       "  </thead>\n",
       "  <tbody>\n",
       "    <tr>\n",
       "      <th>0</th>\n",
       "      <td>1.298497</td>\n",
       "      <td>-0.454213</td>\n",
       "      <td>-0.452746</td>\n",
       "      <td>-1.000180</td>\n",
       "      <td>-0.545765</td>\n",
       "      <td>-1.478368</td>\n",
       "      <td>1.976685</td>\n",
       "    </tr>\n",
       "    <tr>\n",
       "      <th>1</th>\n",
       "      <td>-1.280434</td>\n",
       "      <td>-0.300398</td>\n",
       "      <td>-1.182548</td>\n",
       "      <td>-1.764496</td>\n",
       "      <td>1.223352</td>\n",
       "      <td>-3.345291</td>\n",
       "      <td>3.429275</td>\n",
       "    </tr>\n",
       "    <tr>\n",
       "      <th>2</th>\n",
       "      <td>-0.975466</td>\n",
       "      <td>-1.947696</td>\n",
       "      <td>0.498466</td>\n",
       "      <td>-0.450827</td>\n",
       "      <td>-0.579907</td>\n",
       "      <td>0.229275</td>\n",
       "      <td>-0.974620</td>\n",
       "    </tr>\n",
       "    <tr>\n",
       "      <th>3</th>\n",
       "      <td>-0.269087</td>\n",
       "      <td>1.306107</td>\n",
       "      <td>-1.013202</td>\n",
       "      <td>0.629439</td>\n",
       "      <td>0.534649</td>\n",
       "      <td>-0.502021</td>\n",
       "      <td>0.847657</td>\n",
       "    </tr>\n",
       "    <tr>\n",
       "      <th>4</th>\n",
       "      <td>-1.105738</td>\n",
       "      <td>1.502613</td>\n",
       "      <td>-0.704235</td>\n",
       "      <td>0.035777</td>\n",
       "      <td>1.049505</td>\n",
       "      <td>-1.369296</td>\n",
       "      <td>0.863049</td>\n",
       "    </tr>\n",
       "    <tr>\n",
       "      <th>5</th>\n",
       "      <td>-0.127993</td>\n",
       "      <td>-0.374841</td>\n",
       "      <td>0.134636</td>\n",
       "      <td>1.111607</td>\n",
       "      <td>-0.372326</td>\n",
       "      <td>2.245541</td>\n",
       "      <td>-0.120482</td>\n",
       "    </tr>\n",
       "    <tr>\n",
       "      <th>6</th>\n",
       "      <td>-0.617827</td>\n",
       "      <td>1.573356</td>\n",
       "      <td>-2.424500</td>\n",
       "      <td>-2.187299</td>\n",
       "      <td>1.680524</td>\n",
       "      <td>-3.192921</td>\n",
       "      <td>5.905730</td>\n",
       "    </tr>\n",
       "    <tr>\n",
       "      <th>7</th>\n",
       "      <td>-0.989126</td>\n",
       "      <td>0.281656</td>\n",
       "      <td>-1.623278</td>\n",
       "      <td>0.114812</td>\n",
       "      <td>0.735628</td>\n",
       "      <td>0.207887</td>\n",
       "      <td>1.166663</td>\n",
       "    </tr>\n",
       "    <tr>\n",
       "      <th>8</th>\n",
       "      <td>-2.859892</td>\n",
       "      <td>1.836868</td>\n",
       "      <td>-3.169154</td>\n",
       "      <td>-2.857198</td>\n",
       "      <td>1.338093</td>\n",
       "      <td>-4.403132</td>\n",
       "      <td>5.235432</td>\n",
       "    </tr>\n",
       "    <tr>\n",
       "      <th>9</th>\n",
       "      <td>-0.794348</td>\n",
       "      <td>0.352271</td>\n",
       "      <td>-1.998225</td>\n",
       "      <td>-2.583241</td>\n",
       "      <td>2.809016</td>\n",
       "      <td>-1.754676</td>\n",
       "      <td>5.475505</td>\n",
       "    </tr>\n",
       "  </tbody>\n",
       "</table>\n",
       "</div>"
      ],
      "text/plain": [
       "          1         2         3         4         5         6         7\n",
       "0  1.298497 -0.454213 -0.452746 -1.000180 -0.545765 -1.478368  1.976685\n",
       "1 -1.280434 -0.300398 -1.182548 -1.764496  1.223352 -3.345291  3.429275\n",
       "2 -0.975466 -1.947696  0.498466 -0.450827 -0.579907  0.229275 -0.974620\n",
       "3 -0.269087  1.306107 -1.013202  0.629439  0.534649 -0.502021  0.847657\n",
       "4 -1.105738  1.502613 -0.704235  0.035777  1.049505 -1.369296  0.863049\n",
       "5 -0.127993 -0.374841  0.134636  1.111607 -0.372326  2.245541 -0.120482\n",
       "6 -0.617827  1.573356 -2.424500 -2.187299  1.680524 -3.192921  5.905730\n",
       "7 -0.989126  0.281656 -1.623278  0.114812  0.735628  0.207887  1.166663\n",
       "8 -2.859892  1.836868 -3.169154 -2.857198  1.338093 -4.403132  5.235432\n",
       "9 -0.794348  0.352271 -1.998225 -2.583241  2.809016 -1.754676  5.475505"
      ]
     },
     "execution_count": 3,
     "metadata": {},
     "output_type": "execute_result"
    }
   ],
   "source": [
    "pcalg_samples.head(10)"
   ]
  },
  {
   "cell_type": "code",
   "execution_count": 31,
   "id": "a334e217",
   "metadata": {},
   "outputs": [],
   "source": [
    "i = 1\n",
    "j = 7\n",
    "S = [3,4]\n",
    "x_i = np.asarray(pcalg_samples[str(i)]).reshape(-1, 1)\n",
    "x_j = np.asarray(pcalg_samples[str(j)]).reshape(-1, 1)\n",
    "S_list = [str(x) for x in S]\n",
    "S_sample = np.asarray(pcalg_samples[S_list])\n",
    "\n",
    "reg_is = LinearRegression().fit(S_sample, x_i)\n",
    "reg_js = LinearRegression().fit(S_sample, x_j)\n",
    "\n",
    "beta_is = reg_is.coef_\n",
    "beta_js = reg_js.coef_"
   ]
  },
  {
   "cell_type": "code",
   "execution_count": 40,
   "id": "6256114e",
   "metadata": {},
   "outputs": [
    {
     "data": {
      "text/plain": [
       "(10000, 1)"
      ]
     },
     "execution_count": 40,
     "metadata": {},
     "output_type": "execute_result"
    }
   ],
   "source": [
    "np.matmul(S_sample, np.transpose(beta_is)).shape"
   ]
  },
  {
   "cell_type": "code",
   "execution_count": 6,
   "id": "957a94ba",
   "metadata": {},
   "outputs": [
    {
     "data": {
      "text/plain": [
       "7"
      ]
     },
     "execution_count": 6,
     "metadata": {},
     "output_type": "execute_result"
    }
   ],
   "source": [
    "len(pcalg_samples.columns)"
   ]
  },
  {
   "cell_type": "code",
   "execution_count": 222,
   "id": "c790e24c",
   "metadata": {},
   "outputs": [],
   "source": [
    "def compute_partial_correlation(samples, i, j, S):\n",
    "    x_i = np.asarray(pcalg_samples[str(i)]).reshape(-1, 1)\n",
    "    x_j = np.asarray(pcalg_samples[str(j)]).reshape(-1, 1)\n",
    "    \n",
    "    if len(S) == 0:\n",
    "        rho = pearsonr(np.squeeze(x_i), np.squeeze(x_j))[0]\n",
    "        return rho\n",
    "    \n",
    "    S_list = [str(x) for x in S]\n",
    "    S_sample = np.asarray(pcalg_samples[S_list])\n",
    "    \n",
    "    reg_is = LinearRegression().fit(S_sample, x_i)\n",
    "    reg_js = LinearRegression().fit(S_sample, x_j)\n",
    "    \n",
    "    beta_is = reg_is.coef_\n",
    "    beta_js = reg_js.coef_\n",
    "    \n",
    "    ri = x_i - np.matmul(S_sample, np.transpose(beta_is))\n",
    "    rj = x_j - np.matmul(S_sample, np.transpose(beta_js))\n",
    "    \n",
    "    rho = pearsonr(np.squeeze(ri), np.squeeze(rj))[0]\n",
    "    \n",
    "    return rho"
   ]
  },
  {
   "cell_type": "code",
   "execution_count": 223,
   "id": "da5014df",
   "metadata": {},
   "outputs": [
    {
     "data": {
      "text/plain": [
       "0.013246672696374633"
      ]
     },
     "execution_count": 223,
     "metadata": {},
     "output_type": "execute_result"
    }
   ],
   "source": [
    "compute_partial_correlation(pcalg_samples, 1, 7, [3, 4])"
   ]
  },
  {
   "cell_type": "code",
   "execution_count": 224,
   "id": "a374bd1c",
   "metadata": {},
   "outputs": [
    {
     "data": {
      "text/plain": [
       "0.1851510816056242"
      ]
     },
     "execution_count": 224,
     "metadata": {},
     "output_type": "execute_result"
    }
   ],
   "source": [
    "#(a)\n",
    "compute_partial_correlation(pcalg_samples, 1, 4, [])"
   ]
  },
  {
   "cell_type": "code",
   "execution_count": 225,
   "id": "8dcc242c",
   "metadata": {},
   "outputs": [
    {
     "data": {
      "text/plain": [
       "0.009334086556151497"
      ]
     },
     "execution_count": 225,
     "metadata": {},
     "output_type": "execute_result"
    }
   ],
   "source": [
    "#(b)\n",
    "compute_partial_correlation(pcalg_samples, 1, 4, [2,3])"
   ]
  },
  {
   "cell_type": "markdown",
   "id": "37f2162a",
   "metadata": {},
   "source": [
    "# Fisher’s z-transformation"
   ]
  },
  {
   "cell_type": "code",
   "execution_count": 212,
   "id": "5586788e",
   "metadata": {},
   "outputs": [],
   "source": [
    "def fisherz(r):\n",
    "    z = 0.5*np.log((1 + r)/(1 - r))\n",
    "    return z\n",
    "\n",
    "def compute_test_statistic(samples, i, j, S):\n",
    "    n = len(samples)\n",
    "    s_len = len(S)\n",
    "    \n",
    "    z = np.sqrt(n-s_len-3)*fisherz(compute_partial_correlation(samples, i, j, S))\n",
    "    return z"
   ]
  },
  {
   "cell_type": "code",
   "execution_count": 213,
   "id": "c89f1a15",
   "metadata": {},
   "outputs": [
    {
     "data": {
      "text/plain": [
       "1.324413531901477"
      ]
     },
     "execution_count": 213,
     "metadata": {},
     "output_type": "execute_result"
    }
   ],
   "source": [
    "compute_test_statistic(pcalg_samples, 1, 7, [3, 4])"
   ]
  },
  {
   "cell_type": "code",
   "execution_count": 214,
   "id": "eaa8bba0",
   "metadata": {},
   "outputs": [
    {
     "data": {
      "text/plain": [
       "-30.03450548819237"
      ]
     },
     "execution_count": 214,
     "metadata": {},
     "output_type": "execute_result"
    }
   ],
   "source": [
    "compute_test_statistic(pcalg_samples, 1, 7, [])"
   ]
  },
  {
   "cell_type": "code",
   "execution_count": 215,
   "id": "e95c5a5f",
   "metadata": {},
   "outputs": [
    {
     "data": {
      "text/plain": [
       "0.9332023767104407"
      ]
     },
     "execution_count": 215,
     "metadata": {},
     "output_type": "execute_result"
    }
   ],
   "source": [
    "#c\n",
    "compute_test_statistic(pcalg_samples, 1, 4, [2, 3])"
   ]
  },
  {
   "cell_type": "markdown",
   "id": "7e6c3748",
   "metadata": {},
   "source": [
    "# P value"
   ]
  },
  {
   "cell_type": "code",
   "execution_count": 202,
   "id": "81cfd71a",
   "metadata": {},
   "outputs": [],
   "source": [
    "from scipy.stats import norm\n",
    "\n",
    "def compute_pvalue(samples, i, j, S):\n",
    "    return 2*(1-norm.cdf(np.abs(compute_test_statistic(samples, i, j, S))))"
   ]
  },
  {
   "cell_type": "code",
   "execution_count": 203,
   "id": "4bb1e3a5",
   "metadata": {},
   "outputs": [
    {
     "data": {
      "text/plain": [
       "0.18536574289813657"
      ]
     },
     "execution_count": 203,
     "metadata": {},
     "output_type": "execute_result"
    }
   ],
   "source": [
    "compute_pvalue(pcalg_samples, 1, 7, [3, 4])"
   ]
  },
  {
   "cell_type": "code",
   "execution_count": 204,
   "id": "1a1037bd",
   "metadata": {},
   "outputs": [
    {
     "data": {
      "text/plain": [
       "0.0"
      ]
     },
     "execution_count": 204,
     "metadata": {},
     "output_type": "execute_result"
    }
   ],
   "source": [
    "compute_pvalue(pcalg_samples, 1, 7, [])"
   ]
  },
  {
   "cell_type": "code",
   "execution_count": 198,
   "id": "799cb8d1",
   "metadata": {},
   "outputs": [
    {
     "data": {
      "text/plain": [
       "0.35071548783635986"
      ]
     },
     "execution_count": 198,
     "metadata": {},
     "output_type": "execute_result"
    }
   ],
   "source": [
    "#d\n",
    "compute_pvalue(pcalg_samples, 1, 4, [2, 3])"
   ]
  },
  {
   "cell_type": "markdown",
   "id": "81e399a1",
   "metadata": {},
   "source": [
    "# Skeleton phase"
   ]
  },
  {
   "cell_type": "code",
   "execution_count": 242,
   "id": "9eac127e",
   "metadata": {},
   "outputs": [],
   "source": [
    "import networkx as nx\n",
    "from more_itertools import powerset\n",
    "\n",
    "def existence(G, d):\n",
    "    for i,j in G.edges:\n",
    "        adj_i = [n for n in G.neighbors(i)]\n",
    "        adj_i.remove(j)\n",
    "        \n",
    "        if len(adj_i) >= d:\n",
    "            return True\n",
    "    return False\n",
    "\n",
    "# def powerset(s):\n",
    "#     return [combo for r in range(len(s) + 1) for combo in itertools.combinations(s, r)]\n",
    "\n",
    "def pcalg_skeleton(samples, alpha):\n",
    "    nodes = [int(x) for x in samples.columns]\n",
    "    G = nx.complete_graph(len(nodes))\n",
    "    mapping = {}\n",
    "    for i in range(len(nodes)):\n",
    "        mapping[i] = i+1\n",
    "    G = nx.relabel_nodes(G, mapping)\n",
    "    \n",
    "    d = 0\n",
    "    while existence(G, d):\n",
    "        for i,j in G.edges:\n",
    "            s_i = [n for n in G.neighbors(i)]\n",
    "            s_i.remove(j)\n",
    "            S_i = powerset(s_i)\n",
    "\n",
    "            for s_item in S_i:\n",
    "                if len(s_item) == d:\n",
    "                    if compute_pvalue(samples, i, j, s_item) > alpha:\n",
    "                        if G.has_edge(i, j):\n",
    "                            G.remove_edge(i,j)\n",
    "                            print(compute_pvalue(samples, i, j, s_item), i, j, s_i, s_item)\n",
    "                            \n",
    "            s_j = [n for n in G.neighbors(j)]\n",
    "            if i in s_j:\n",
    "                s_j.remove(i)\n",
    "            S_j = powerset(s_j)\n",
    "\n",
    "            for s_item in S_j:\n",
    "                if len(s_item) == d:\n",
    "                    if compute_pvalue(samples, i, j, s_item) > alpha:\n",
    "                        if G.has_edge(i, j):\n",
    "                            G.remove_edge(i,j)\n",
    "                            print(compute_pvalue(samples, i, j, s_item), i, j, s_i, s_item)\n",
    "\n",
    "                \n",
    "        d += 1\n",
    "    print(d)\n",
    "    nx.draw(G, with_labels=True)\n",
    "    return"
   ]
  },
  {
   "cell_type": "code",
   "execution_count": 229,
   "id": "293ed508",
   "metadata": {},
   "outputs": [
    {
     "name": "stdout",
     "output_type": "stream",
     "text": [
      "6\n"
     ]
    },
    {
     "data": {
      "image/png": "[encoded data removed]",
      "text/plain": [
       "<Figure size 640x480 with 1 Axes>"
      ]
     },
     "metadata": {},
     "output_type": "display_data"
    }
   ],
   "source": [
    "pcalg_skeleton(pcalg_samples, 0.05)"
   ]
  },
  {
   "cell_type": "code",
   "execution_count": 230,
   "id": "a24b9678",
   "metadata": {},
   "outputs": [
    {
     "name": "stdout",
     "output_type": "stream",
     "text": [
      "6\n"
     ]
    },
    {
     "data": {
      "image/png": "[encoded data removed]",
      "text/plain": [
       "<Figure size 640x480 with 1 Axes>"
      ]
     },
     "metadata": {},
     "output_type": "display_data"
    }
   ],
   "source": [
    "pcalg_skeleton(pcalg_samples[:500], 0.2)"
   ]
  },
  {
   "cell_type": "code",
   "execution_count": 243,
   "id": "f8ac5495",
   "metadata": {},
   "outputs": [
    {
     "name": "stdout",
     "output_type": "stream",
     "text": [
      "0.9155844359669103 1 2 [3, 4, 5, 6, 7] ()\n",
      "0.8997334224778475 1 4 [3, 5, 6, 7] (3,)\n",
      "0.9776364923640126 1 5 [3, 6, 7] (3,)\n",
      "0.9807266412351268 1 6 [3, 7] (3,)\n",
      "0.8672011615841873 1 7 [3] (3,)\n",
      "0.7921200334216634 2 4 [3, 5, 6, 7] (3,)\n",
      "0.8663438418733802 2 5 [3, 6, 7] (3,)\n",
      "0.86108803611775 2 6 [3, 7] (3,)\n",
      "0.9904635092648759 2 7 [3] (3,)\n",
      "0.01133872788844914 3 5 [1, 2, 4, 6, 7] (7,)\n",
      "0.8483219908553714 5 7 [4, 6] (3, 4)\n",
      "0.9268527415275696 6 7 [3, 4, 5] (3, 4)\n",
      "0.0017868752069081228 3 4 [1, 2, 6, 7] (1, 2, 6)\n",
      "4\n"
     ]
    },
    {
     "data": {
      "image/png": "[encoded data removed]",
      "text/plain": [
       "<Figure size 640x480 with 1 Axes>"
      ]
     },
     "metadata": {},
     "output_type": "display_data"
    }
   ],
   "source": [
    "pcalg_skeleton(pcalg_samples[:500], 0.001)"
   ]
  },
  {
   "cell_type": "code",
   "execution_count": 244,
   "id": "56cc3669",
   "metadata": {},
   "outputs": [
    {
     "data": {
      "text/plain": [
       "0.9155844359669103"
      ]
     },
     "execution_count": 244,
     "metadata": {},
     "output_type": "execute_result"
    }
   ],
   "source": [
    "compute_pvalue(pcalg_samples[:500], 1, 2, [])"
   ]
  },
  {
   "cell_type": "code",
   "execution_count": null,
   "id": "24fc9c57",
   "metadata": {},
   "outputs": [],
   "source": []
  }
 ],
 "metadata": {
  "kernelspec": {
   "display_name": "Python 3 (ipykernel)",
   "language": "python",
   "name": "python3"
  },
  "language_info": {
   "codemirror_mode": {
    "name": "ipython",
    "version": 3
   },
   "file_extension": ".py",
   "mimetype": "text/x-python",
   "name": "python",
   "nbconvert_exporter": "python",
   "pygments_lexer": "ipython3",
   "version": "3.7.13"
  }
 },
 "nbformat": 4,
 "nbformat_minor": 5
}
